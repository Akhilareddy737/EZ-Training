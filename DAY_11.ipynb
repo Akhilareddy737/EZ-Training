{
 "cells": [
  {
   "cell_type": "markdown",
   "id": "520ef330",
   "metadata": {},
   "source": [
    "### AVL TREE"
   ]
  },
  {
   "cell_type": "code",
   "execution_count": 14,
   "id": "1dea4d92",
   "metadata": {},
   "outputs": [
    {
     "name": "stdout",
     "output_type": "stream",
     "text": [
      "0\n",
      "7\n",
      "12\n",
      "17\n",
      "19\n",
      "21\n",
      "27\n",
      "29\n",
      "34\n",
      "38\n",
      "75\n",
      "99\n",
      "100\n",
      "134\n",
      "143\n"
     ]
    }
   ],
   "source": [
    "class node:  #class for tree node\n",
    "    def __init__(self,data):\n",
    "        self.val=data\n",
    "        self.left=None\n",
    "        self.right=None\n",
    "        self.height=1\n",
    "        \n",
    "def insert(root,Super):\n",
    "    if not root:\n",
    "        return node(Super)\n",
    "    if Super<root.val:\n",
    "        root.left=insert(root.left,Super)\n",
    "    else:\n",
    "        root.right=insert(root.right,Super)\n",
    "        \n",
    "    root.height=1+max(ght(root.left),ght(root.right))\n",
    "        \n",
    "    BF=getBF(root)\n",
    "    \n",
    "    \n",
    "    #RR Rotation\n",
    "    if BF>1 and Super<root.left.val: \n",
    "        return rightRotate(root)\n",
    "     \n",
    "    #RL Rotation    \n",
    "    if BF>1 and Super>root.left.val:\n",
    "        root.left=leftRotate(root.left)\n",
    "        return rightRotate(root)\n",
    "    \n",
    "    #LL Rotation\n",
    "    if BF<-1 and Super>root.right.val:\n",
    "        return leftRotate(root)\n",
    "    \n",
    "    #LR Rotation\n",
    "    if BF< -1 and Super<root.right.val:\n",
    "        root.right=rightRotate(root.right)\n",
    "        return leftRotate(root)\n",
    "    \n",
    "    return root\n",
    "        \n",
    "def ght(root):\n",
    "    if not root:\n",
    "        return 0\n",
    "    return root.height\n",
    "\n",
    "def getBF(root):\n",
    "    if not root:\n",
    "        return 0\n",
    "    return ght(root.left)-ght(root.right)\n",
    "\n",
    "def leftRotate(A):\n",
    "    B=A.right\n",
    "    temp=B.left\n",
    "    \n",
    "    B.left=A\n",
    "    A.right=temp\n",
    "    \n",
    "    A.height=1+max(ght(A.left),ght(A.right))\n",
    "    B.height=1+max(ght(B.left),ght(B.right))\n",
    "    \n",
    "    return B\n",
    "\n",
    "def rightRotate(A):\n",
    "    B=A.left\n",
    "    temp=B.right\n",
    "    \n",
    "    B.right=A\n",
    "    A.left=temp\n",
    "    \n",
    "    A.height=1+max(ght(A.left),ght(A.right))\n",
    "    B.height=1+max(ght(B.left),ght(B.right))\n",
    "    \n",
    "    return B\n",
    "    \n",
    "    \n",
    "    \n",
    "def inorder(root): #print the data in inorder format\n",
    "    if not root:\n",
    "        return\n",
    "    inorder(root.left)\n",
    "    print(root.val)\n",
    "    inorder(root.right)\n",
    "        \n",
    "if __name__==\"__main__\":\n",
    "    root=None\n",
    "    VL=[19,99,75,7,21,34,38,27,134,100,29,0,12,17,143]\n",
    "    for i in VL:\n",
    "        root=insert(root,i)\n",
    "        \n",
    "    inorder(root)"
   ]
  },
  {
   "cell_type": "markdown",
   "id": "b7d233aa",
   "metadata": {},
   "source": [
    "### Background: In the digital age,numbers are often displayed with thousands separators(commas) for readability.for example,the number 1,000 is easier to read than 1000.But have you ever wondered how many commas are used when printing all the numbers from 1 to 100,000?\n",
    "\n",
    "Objective: Your task is to calculate the maximum number of commas used when printing the integers from 1 to 100,000(inclusive).\n",
    "Assume that each number is printed with the appropriate thousands separator.\n",
    "\n",
    "\n",
    "test case: 239,968,987 |100,323,774,532 | 553,646,223"
   ]
  },
  {
   "cell_type": "code",
   "execution_count": null,
   "id": "7ebf69d7",
   "metadata": {},
   "outputs": [],
   "source": []
  },
  {
   "cell_type": "code",
   "execution_count": null,
   "id": "c107ab8c",
   "metadata": {},
   "outputs": [],
   "source": [
    "#Continuous sub array\n",
    "\n",
    "[4,-1,-3,6,-2,-1,3,2,-8,-2]"
   ]
  },
  {
   "cell_type": "code",
   "execution_count": 1,
   "id": "0127364b",
   "metadata": {},
   "outputs": [
    {
     "name": "stdout",
     "output_type": "stream",
     "text": [
      "The maximum value that can be achieved is: 220\n"
     ]
    }
   ],
   "source": [
    "def knapsack(values, weights, capacity):\n",
    "    n = len(values)\n",
    "    dp = [[0 for _ in range(capacity + 1)] for _ in range(n + 1)]\n",
    "    for i in range(1, n + 1):\n",
    "        for w in range(1, capacity + 1):\n",
    "            if weights[i-1] <= w:\n",
    "                dp[i][w] = max(dp[i-1][w], dp[i-1][w-weights[i-1]] + values[i-1])\n",
    "            else:\n",
    "                dp[i][w] = dp[i-1][w]\n",
    "    \n",
    "    return dp[n][capacity]\n",
    "\n",
    "values = [60, 100, 120]\n",
    "weights = [10, 20, 30]\n",
    "capacity = 50\n",
    "\n",
    "max_value = knapsack(values, weights, capacity)\n",
    "print(f\"The maximum value that can be achieved is: {max_value}\")"
   ]
  },
  {
   "cell_type": "code",
   "execution_count": null,
   "id": "0e0c6656",
   "metadata": {},
   "outputs": [],
   "source": []
  }
 ],
 "metadata": {
  "kernelspec": {
   "display_name": "Python 3 (ipykernel)",
   "language": "python",
   "name": "python3"
  },
  "language_info": {
   "codemirror_mode": {
    "name": "ipython",
    "version": 3
   },
   "file_extension": ".py",
   "mimetype": "text/x-python",
   "name": "python",
   "nbconvert_exporter": "python",
   "pygments_lexer": "ipython3",
   "version": "3.11.5"
  }
 },
 "nbformat": 4,
 "nbformat_minor": 5
}
