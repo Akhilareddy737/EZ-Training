{
 "cells": [
  {
   "cell_type": "code",
   "execution_count": 10,
   "id": "b14a9c52",
   "metadata": {},
   "outputs": [
    {
     "name": "stdout",
     "output_type": "stream",
     "text": [
      "51\n"
     ]
    }
   ],
   "source": [
    "#using recursive\n",
    "def calc_max(P,W,C,n):\n",
    "    if n==0 or C==0:\n",
    "        return 0\n",
    "    if(W[n-1]>C):\n",
    "        return calc_max(P,W,C,n-1)\n",
    "    else:\n",
    "        return max(P[n-1]+calc_max(P,W,C-W[n-1],n-1),calc_max(P,W,C,n-1))\n",
    "    \n",
    "P=[5,10,15,7,8,9,4]\n",
    "W=[1,3,5,4,1,3,2]\n",
    "C=15\n",
    "n=len(P)\n",
    "print(calc_max(P,W,C,n))"
   ]
  },
  {
   "cell_type": "code",
   "execution_count": 1,
   "id": "a6cb602d",
   "metadata": {},
   "outputs": [
    {
     "name": "stdout",
     "output_type": "stream",
     "text": [
      "51\n",
      "[[-1, -1, -1, -1, -1, -1, -1, -1, -1, -1, -1, -1, -1, -1, -1, -1], [-1, 5, 5, 5, 5, 5, 5, 5, 5, 5, 5, 5, 5, 5, 5, 5], [-1, 5, 5, 10, 15, 15, 15, 15, 15, 15, 15, 15, 15, 15, 15, 15], [-1, -1, -1, -1, -1, 15, 20, 20, 25, 30, 30, 30, 30, 30, 30, 30], [-1, -1, -1, -1, -1, -1, -1, -1, -1, 30, 30, 30, 32, 37, 37, 37], [-1, -1, -1, -1, -1, -1, -1, -1, -1, -1, 38, -1, 38, 40, -1, 45], [-1, -1, -1, -1, -1, -1, -1, -1, -1, -1, -1, -1, -1, 47, -1, 47], [-1, -1, -1, -1, -1, -1, -1, -1, -1, -1, -1, -1, -1, -1, -1, 51]]\n"
     ]
    }
   ],
   "source": [
    "#recursion+data storing\n",
    "def calc_max(P,W,C,n):\n",
    "    if n==0 or C==0:\n",
    "        return 0\n",
    "    if DP[n][C]!=-1:\n",
    "        return DP[n][C]\n",
    "    if (W[n-1]<=C):\n",
    "        DP[n][C]=max(P[n-1]+calc_max(P,W,C-W[n-1],n-1),calc_max(P,W,C,n-1))\n",
    "        return DP[n][C]\n",
    "    else:\n",
    "        DP[n][C]=calc_max(P,W,C,n-1)\n",
    "        return DP[n][C]\n",
    "    \n",
    "P=[5,10,15,7,8,9,4]\n",
    "W=[1,3,5,4,1,3,2]\n",
    "C=15\n",
    "n=len(P)\n",
    "DP=[[-1 for i in range(C+1)]for j in range(n+1)]\n",
    "\n",
    "print(calc_max(P,W,C,n)) \n",
    "print(DP)"
   ]
  },
  {
   "cell_type": "code",
   "execution_count": null,
   "id": "015c6b91",
   "metadata": {},
   "outputs": [],
   "source": []
  }
 ],
 "metadata": {
  "kernelspec": {
   "display_name": "Python 3 (ipykernel)",
   "language": "python",
   "name": "python3"
  },
  "language_info": {
   "codemirror_mode": {
    "name": "ipython",
    "version": 3
   },
   "file_extension": ".py",
   "mimetype": "text/x-python",
   "name": "python",
   "nbconvert_exporter": "python",
   "pygments_lexer": "ipython3",
   "version": "3.11.5"
  }
 },
 "nbformat": 4,
 "nbformat_minor": 5
}
