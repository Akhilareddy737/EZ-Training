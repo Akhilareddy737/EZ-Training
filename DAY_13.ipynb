{
 "cells": [
  {
   "cell_type": "code",
   "execution_count": 6,
   "id": "82dcf044",
   "metadata": {},
   "outputs": [
    {
     "name": "stdout",
     "output_type": "stream",
     "text": [
      "{0: 5.0, 1: 3.3333333333333335, 2: 3.0, 3: 1.75, 4: 8.0, 5: 3.0, 6: 2.0}\n",
      "[(0, 5.0), (1, 3.3333333333333335), (2, 3.0), (3, 1.75), (4, 8.0), (5, 3.0), (6, 2.0)]\n",
      "3.0\n",
      "Sorting using Lambda Function [(4, 8.0), (0, 5.0), (1, 3.3333333333333335), (2, 3.0), (5, 3.0), (6, 2.0), (3, 1.75)]\n",
      "[(4, 8.0), (0, 5.0), (1, 3.3333333333333335), (2, 3.0), (5, 3.0), (6, 2.0), (3, 1.75)]\n"
     ]
    }
   ],
   "source": [
    "#Knapsack Problem\n",
    "P=[5,10,15,7,8,9,4]\n",
    "W=[1,3,5,4,1,3,2]\n",
    "\n",
    "P_W={}\n",
    "for i in range(len(P)):\n",
    "    P_W[i]=P[i]/W[i]\n",
    "    \n",
    "print(P_W)\n",
    "\n",
    "L=list(P_W.items())\n",
    "print(L)\n",
    "\n",
    "n=len(L)\n",
    "B=lambda x:L[x][1]\n",
    "print(B(2))\n",
    "sorted_List=sorted(L,key=lambda x:x[1],reverse=True)\n",
    "print(\"Sorting using Lambda Function\",sorted_List)\n",
    "\n",
    "L.sort(key=lambda x:x[1],reverse=True)\n",
    "#for i in range(n-1):\n",
    " #   max=i\n",
    "  #  for j in range(i+1,n):\n",
    "   #     if L[j][i]>L[max][1]:\n",
    "    #        max=j\n",
    "     #   L[i],L[max]=L[max],L[i]\n",
    "print(L)\n",
    "sorted_PW={}\n",
    "for i in L:\n",
    "    sorted_PW[i[0]]=i[1]"
   ]
  },
  {
   "cell_type": "code",
   "execution_count": 7,
   "id": "610b81c1",
   "metadata": {},
   "outputs": [
    {
     "name": "stdout",
     "output_type": "stream",
     "text": [
      "400\n",
      "16\n"
     ]
    }
   ],
   "source": [
    "#Lamda Function\n",
    "def a(x):\n",
    "    return x*x\n",
    "def b(x):\n",
    "    return x-4\n",
    "\n",
    "print(a(20))\n",
    "print(b(20))"
   ]
  },
  {
   "cell_type": "code",
   "execution_count": null,
   "id": "ebe45d71",
   "metadata": {},
   "outputs": [],
   "source": []
  }
 ],
 "metadata": {
  "kernelspec": {
   "display_name": "Python 3 (ipykernel)",
   "language": "python",
   "name": "python3"
  },
  "language_info": {
   "codemirror_mode": {
    "name": "ipython",
    "version": 3
   },
   "file_extension": ".py",
   "mimetype": "text/x-python",
   "name": "python",
   "nbconvert_exporter": "python",
   "pygments_lexer": "ipython3",
   "version": "3.11.5"
  }
 },
 "nbformat": 4,
 "nbformat_minor": 5
}
