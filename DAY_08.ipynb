{
 "cells": [
  {
   "cell_type": "markdown",
   "id": "a38d7032",
   "metadata": {},
   "source": [
    "## Sorting techniques"
   ]
  },
  {
   "cell_type": "markdown",
   "id": "2dfb9d9f",
   "metadata": {},
   "source": [
    "### Bubble sort"
   ]
  },
  {
   "cell_type": "code",
   "execution_count": 1,
   "id": "f92b5723",
   "metadata": {},
   "outputs": [
    {
     "name": "stdout",
     "output_type": "stream",
     "text": [
      "5 15 23 17 8\n",
      "[5, 8, 15, 17, 23]\n"
     ]
    }
   ],
   "source": [
    "L=list(map(int,input().split()))\n",
    "n=len(L)\n",
    "for j in range(0,n):\n",
    "    for i in range(0,n-1-j):\n",
    "        if L[i]>L[i+1]:\n",
    "            L[i],L[i+1]=L[i+1],L[i]\n",
    "print(L)"
   ]
  },
  {
   "cell_type": "markdown",
   "id": "4fbfd580",
   "metadata": {},
   "source": [
    "## Selection sort"
   ]
  },
  {
   "cell_type": "code",
   "execution_count": 2,
   "id": "a6cdff7a",
   "metadata": {},
   "outputs": [
    {
     "name": "stdout",
     "output_type": "stream",
     "text": [
      "5 15 23 17 8\n",
      "[5, 8, 15, 17, 23]\n"
     ]
    }
   ],
   "source": [
    "L=list(map(int,input().split()))\n",
    "n=len(L)\n",
    "for j in range(0,n):\n",
    "    pos=j\n",
    "    min=L[j]\n",
    "    for i in range(j,n):\n",
    "        if L[i]<min:\n",
    "            min=L[i]\n",
    "            pos=i\n",
    "    L[j],L[pos]=L[pos],L[j]\n",
    "print(L)"
   ]
  },
  {
   "cell_type": "markdown",
   "id": "c0d62b5d",
   "metadata": {},
   "source": [
    "## Fibonacci series using recursion"
   ]
  },
  {
   "cell_type": "code",
   "execution_count": 3,
   "id": "f422534f",
   "metadata": {},
   "outputs": [
    {
     "name": "stdout",
     "output_type": "stream",
     "text": [
      "5\n",
      "3\n"
     ]
    }
   ],
   "source": [
    "def fib(n):\n",
    "    if n==1:\n",
    "        return 0\n",
    "    if n==2:\n",
    "        return 1\n",
    "    return fib(n-1)+fib(n-2)\n",
    "if __name__==\"__main__\":\n",
    "    n=int(input())\n",
    "    print(fib(n))"
   ]
  },
  {
   "cell_type": "markdown",
   "id": "052a053d",
   "metadata": {},
   "source": [
    "### Factorial of a number\n"
   ]
  },
  {
   "cell_type": "code",
   "execution_count": 4,
   "id": "62878fa5",
   "metadata": {},
   "outputs": [
    {
     "name": "stdout",
     "output_type": "stream",
     "text": [
      "Enter a number: 5\n",
      "The factorial of 5 is: 120\n"
     ]
    }
   ],
   "source": [
    "def factorial(n):\n",
    "    if n == 0:\n",
    "        return 1\n",
    "    return n * factorial(n-1)\n",
    "if __name__==\"__main__\":\n",
    "    n = int(input(\"Enter a number: \"))\n",
    "    print(f\"The factorial of {n} is: {factorial(n)}\")"
   ]
  },
  {
   "cell_type": "markdown",
   "id": "118beb54",
   "metadata": {},
   "source": [
    "### Quick sort"
   ]
  },
  {
   "cell_type": "code",
   "execution_count": 5,
   "id": "b10b7269",
   "metadata": {},
   "outputs": [
    {
     "name": "stdout",
     "output_type": "stream",
     "text": [
      "4 6 5 7 9 8 2\n",
      "0 6\n",
      "0 0 6\n",
      "1 1 6\n",
      "3 2 6\n",
      "4 4 6\n",
      "6 5 6\n",
      "Sorted Array= [2, 4, 5, 6, 7, 8, 9]\n"
     ]
    }
   ],
   "source": [
    "def divide(L,Low,High):\n",
    "    P=L[High]\n",
    "    Pi=High\n",
    "    j=Low-1\n",
    "    for i in range(Low,High):\n",
    "        if L[i]<=P:\n",
    "            j+=1\n",
    "            L[i],L[j]=L[j],L[i]\n",
    "    j+=1\n",
    "    L[j],L[Pi]=L[Pi],L[j]\n",
    "    Pi=j\n",
    "    return Pi\n",
    "def Quick_Sort(L,Low,High):\n",
    "    if Low<High:\n",
    "        Pi=divide(L,Low,High)\n",
    "        print(Pi,Low,High)\n",
    "        Quick_Sort(L,Low,Pi-1)\n",
    "        Quick_Sort(L,Pi+1,High)\n",
    "    return\n",
    "\n",
    "if __name__==\"__main__\":\n",
    "    L=list(map(int,input().split()))\n",
    "    low=0\n",
    "    high=len(L)-1\n",
    "    print(low,high)\n",
    "    Quick_Sort(L,low,high)\n",
    "    \n",
    "\n",
    "    print(\"Sorted Array=\",L)"
   ]
  },
  {
   "cell_type": "markdown",
   "id": "6d276b9a",
   "metadata": {},
   "source": [
    "### Merge sort"
   ]
  },
  {
   "cell_type": "code",
   "execution_count": 6,
   "id": "ef2c1198",
   "metadata": {},
   "outputs": [
    {
     "name": "stdout",
     "output_type": "stream",
     "text": [
      "1 4 2 5 3 6 7 9 8 \n",
      "Sorted Array= [1, 2, 3, 4, 5, 6, 7, 8, 9]\n"
     ]
    }
   ],
   "source": [
    "def merge(left,right):\n",
    "    i=j=0\n",
    "    temp=[]\n",
    "    while i<len(left) and j<len(right):\n",
    "        if left[i]<right[j]:\n",
    "            temp.append(left[i])\n",
    "            i+=1\n",
    "        else:\n",
    "            temp.append(right[j])\n",
    "            j+=1\n",
    "            \n",
    "    while i<len(left):\n",
    "        temp.append(left[i])\n",
    "        i+=1\n",
    "            \n",
    "    while j<len(right):\n",
    "        temp.append(right[j])\n",
    "        j+=1\n",
    "    return temp\n",
    "        \n",
    "def mergesort(L):\n",
    "    if len(L)<=1:\n",
    "        return L\n",
    "    mid=len(L)//2\n",
    "    left=L[:mid]\n",
    "    right=L[mid:]\n",
    "    \n",
    "    left_sorted=mergesort(left)\n",
    "    right_sorted=mergesort(right)\n",
    "    \n",
    "    return merge(left_sorted,right_sorted)\n",
    "    \n",
    "if __name__==\"__main__\":\n",
    "    L=list(map(int,input().split()))\n",
    "    sorted=mergesort(L)\n",
    "    \n",
    "    print(\"Sorted Array=\",sorted) "
   ]
  }
 ],
 "metadata": {
  "kernelspec": {
   "display_name": "Python 3 (ipykernel)",
   "language": "python",
   "name": "python3"
  },
  "language_info": {
   "codemirror_mode": {
    "name": "ipython",
    "version": 3
   },
   "file_extension": ".py",
   "mimetype": "text/x-python",
   "name": "python",
   "nbconvert_exporter": "python",
   "pygments_lexer": "ipython3",
   "version": "3.11.5"
  }
 },
 "nbformat": 4,
 "nbformat_minor": 5
}
