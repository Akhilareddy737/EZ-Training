{
 "cells": [
  {
   "cell_type": "code",
   "execution_count": 1,
   "id": "24c4bcb9",
   "metadata": {},
   "outputs": [
    {
     "name": "stdout",
     "output_type": "stream",
     "text": [
      "Sam 20 F\n"
     ]
    }
   ],
   "source": [
    "class Student :\n",
    "    def __init__(self,nm,ag,gn): #__ is for private, self keyword is used to locate the current calling object of the class \n",
    "        self.name=nm\n",
    "        self.age=ag\n",
    "        self.gender=gn\n",
    "st1=Student(\"Sam\",20,'F')   #st1 is a type of class student      \n",
    "print(st1.name,st1.age,st1.gender)"
   ]
  },
  {
   "cell_type": "code",
   "execution_count": 2,
   "id": "9fcef3c9",
   "metadata": {},
   "outputs": [
    {
     "name": "stdout",
     "output_type": "stream",
     "text": [
      "Enter your name : akhila\n",
      "Enter your age : 20\n",
      "Enter your gender : female\n",
      "akhila 20 female\n"
     ]
    }
   ],
   "source": [
    " class Stu :\n",
    "    def __init__(self):\n",
    "        self.name=None\n",
    "        self.age=None\n",
    "        self.gender=None\n",
    "std2=Stu()\n",
    "std2.name=input(\"Enter your name : \")\n",
    "std2.age=int(input(\"Enter your age : \"))\n",
    "std2.gender=input(\"Enter your gender : \")\n",
    "print(std2.name,std2.age,std2.gender)"
   ]
  },
  {
   "cell_type": "code",
   "execution_count": 3,
   "id": "d20c461e",
   "metadata": {},
   "outputs": [
    {
     "name": "stdout",
     "output_type": "stream",
     "text": [
      "Enter your name : akhila\n",
      "Enter your age : 20\n",
      "Enter your gender : female\n",
      "akhila 20 female\n",
      "<class '__main__.STUDENT'>\n"
     ]
    }
   ],
   "source": [
    "class STUDENT :\n",
    "    def __init__(self,nm,ag,gn): \n",
    "        self.name=nm\n",
    "        self.age=ag\n",
    "        self.gender=gn\n",
    "a=input(\"Enter your name : \")\n",
    "b=int(input(\"Enter your age : \"))\n",
    "c=input(\"Enter your gender : \")\n",
    "std3 = STUDENT(a,b,c)\n",
    "print(std3.name,std3.age,std3.gender)\n",
    "print(type(std3))"
   ]
  },
  {
   "cell_type": "code",
   "execution_count": 4,
   "id": "3f3cd28c",
   "metadata": {},
   "outputs": [
    {
     "name": "stdout",
     "output_type": "stream",
     "text": [
      "This is class A function 1\n",
      "This is class B function 2\n",
      "This is class B function 3\n"
     ]
    }
   ],
   "source": [
    "class A:\n",
    "    def fun1(self):\n",
    "        print(\"This is class A function 1\")\n",
    "        \n",
    "class B(A):\n",
    "    def fun2(self):\n",
    "        print(\"This is class B function 2\")\n",
    "    def fun3(self):\n",
    "        print(\"This is class B function 3\")\n",
    "ob1=A()\n",
    "ob2=B()\n",
    "ob2.fun1()\n",
    "ob2.fun2()\n",
    "ob2.fun3()"
   ]
  },
  {
   "cell_type": "code",
   "execution_count": 5,
   "id": "d7764285",
   "metadata": {},
   "outputs": [
    {
     "name": "stdout",
     "output_type": "stream",
     "text": [
      "5\n",
      "2 None\n",
      "5\n",
      "None\n"
     ]
    }
   ],
   "source": [
    "class A:\n",
    "    def __init__(self,a,b):\n",
    "        self.A=a\n",
    "        self.__B=b\n",
    "    def printB(self):\n",
    "        print(self.__B)\n",
    "\n",
    "ob1=A(2,5)\n",
    "print(ob1.A,ob1.printB())\n",
    "print(ob1.printB())"
   ]
  },
  {
   "cell_type": "markdown",
   "id": "86487f10",
   "metadata": {},
   "source": [
    "### create a student class that holds the details of student like name,usn and the marks in 5 subjects percentage and grade.create 5 student object and get the data for name and usn and marks after that find the percentage and grade and store it to the class object ."
   ]
  },
  {
   "cell_type": "code",
   "execution_count": 6,
   "id": "e43c7051",
   "metadata": {},
   "outputs": [
    {
     "name": "stdout",
     "output_type": "stream",
     "text": [
      "Enter name of student 1: akhila\n",
      "Enter USN of student 1: ai075\n",
      "Enter marks for subject 1 for student 1: 89\n",
      "Enter marks for subject 2 for student 1: 98\n",
      "Enter marks for subject 3 for student 1: 76\n",
      "Enter marks for subject 4 for student 1: 67\n",
      "Enter marks for subject 5 for student 1: 99\n",
      "Enter name of student 2: bhoomika\n",
      "Enter USN of student 2: ai077\n",
      "Enter marks for subject 1 for student 2: 99\n",
      "Enter marks for subject 2 for student 2: 89\n",
      "Enter marks for subject 3 for student 2: 90\n",
      "Enter marks for subject 4 for student 2: 97\n",
      "Enter marks for subject 5 for student 2: 98\n",
      "Enter name of student 3: tanu\n",
      "Enter USN of student 3: ai078\n",
      "Enter marks for subject 1 for student 3: 99\n",
      "Enter marks for subject 2 for student 3: 98\n",
      "Enter marks for subject 3 for student 3: 45\n",
      "Enter marks for subject 4 for student 3: 56\n",
      "Enter marks for subject 5 for student 3: 65\n",
      "Enter name of student 4: saniya\n",
      "Enter USN of student 4: ai115\n",
      "Enter marks for subject 1 for student 4: 98\n",
      "Enter marks for subject 2 for student 4: 56\n",
      "Enter marks for subject 3 for student 4: 65\n",
      "Enter marks for subject 4 for student 4: 67\n",
      "Enter marks for subject 5 for student 4: 76\n",
      "Enter name of student 5: spoorti\n",
      "Enter USN of student 5: ai105\n",
      "Enter marks for subject 1 for student 5: 90\n",
      "Enter marks for subject 2 for student 5: 36\n",
      "Enter marks for subject 3 for student 5: 65\n",
      "Enter marks for subject 4 for student 5: 78\n",
      "Enter marks for subject 5 for student 5: 98\n",
      "Name: akhila, USN: ai075, Marks: [89, 98, 76, 67, 99]\n",
      "Percentage: 85.80%, Grade: B\n",
      "Name: bhoomika, USN: ai077, Marks: [99, 89, 90, 97, 98]\n",
      "Percentage: 94.60%, Grade: A\n",
      "Name: tanu, USN: ai078, Marks: [99, 98, 45, 56, 65]\n",
      "Percentage: 72.60%, Grade: C\n",
      "Name: saniya, USN: ai115, Marks: [98, 56, 65, 67, 76]\n",
      "Percentage: 72.40%, Grade: C\n",
      "Name: spoorti, USN: ai105, Marks: [90, 36, 65, 78, 98]\n",
      "Percentage: 73.40%, Grade: C\n"
     ]
    }
   ],
   "source": [
    "class Student:\n",
    "    def __init__(self, name, usn, marks):\n",
    "        self.name = name\n",
    "        self.usn = usn\n",
    "        self.marks = marks\n",
    "        self.percentage = 0\n",
    "        self.grade = ''\n",
    "\n",
    "    def calculate_percentage(self):\n",
    "        total_marks = sum(self.marks)\n",
    "        self.percentage = (total_marks / 500) * 100\n",
    "\n",
    "    def determine_grade(self):\n",
    "        if self.percentage >= 90:\n",
    "            self.grade = 'A'\n",
    "        elif self.percentage >= 80:\n",
    "            self.grade = 'B'\n",
    "        elif self.percentage >= 70:\n",
    "            self.grade = 'C'\n",
    "        elif self.percentage >= 60:\n",
    "            self.grade = 'D'\n",
    "        elif self.percentage >= 50:\n",
    "            self.grade = 'E'\n",
    "        else:\n",
    "            self.grade = 'F'\n",
    "\n",
    "    def update_details(self):\n",
    "        self.calculate_percentage()\n",
    "        self.determine_grade()\n",
    "\n",
    "    def display_details(self):\n",
    "        print(f\"Name: {self.name}, USN: {self.usn}, Marks: {self.marks}\")\n",
    "        print(f\"Percentage: {self.percentage:.2f}%, Grade: {self.grade}\")\n",
    "\n",
    "# Create 5 student objects and get data for name, usn, and marks\n",
    "students = []\n",
    "for i in range(5):\n",
    "    name = input(f\"Enter name of student {i+1}: \")\n",
    "    usn = input(f\"Enter USN of student {i+1}: \")\n",
    "    marks = [int(input(f\"Enter marks for subject {j+1} for student {i+1}: \")) for j in range(5)]\n",
    "    student = Student(name, usn, marks)\n",
    "    student.update_details()\n",
    "    students.append(student)\n",
    "\n",
    "# Display details of all students\n",
    "for student in students:\n",
    "    student.display_details()\n"
   ]
  },
  {
   "cell_type": "code",
   "execution_count": 6,
   "id": "95b21848",
   "metadata": {},
   "outputs": [
    {
     "name": "stdout",
     "output_type": "stream",
     "text": [
      "Enter name of student 1: akhila\n",
      "Enter USN of student 1: ai089\n",
      "Enter marks for subject 1 for student 1: 99\n",
      "Enter marks for subject 2 for student 1: 88\n",
      "Enter marks for subject 3 for student 1: 89\n",
      "Enter marks for subject 4 for student 1: 98\n",
      "Enter marks for subject 5 for student 1: 90\n",
      "Enter name of student 2: bhoomi\n",
      "Enter USN of student 2: ai089\n",
      "Enter marks for subject 1 for student 2: 99\n",
      "Enter marks for subject 2 for student 2: 67\n",
      "Enter marks for subject 3 for student 2: 76\n",
      "Enter marks for subject 4 for student 2: 56\n",
      "Enter marks for subject 5 for student 2: 65\n",
      "Enter name of student 3: tanu\n",
      "Enter USN of student 3: ai067\n",
      "Enter marks for subject 1 for student 3: 99\n",
      "Enter marks for subject 2 for student 3: 98\n",
      "Enter marks for subject 3 for student 3: 97\n",
      "Enter marks for subject 4 for student 3: 54\n",
      "Enter marks for subject 5 for student 3: 45\n",
      "Enter name of student 4: bhavana\n",
      "Enter USN of student 4: ai001\n",
      "Enter marks for subject 1 for student 4: 76\n",
      "Enter marks for subject 2 for student 4: 56\n",
      "Enter marks for subject 3 for student 4: 67\n",
      "Enter marks for subject 4 for student 4: 78\n",
      "Enter marks for subject 5 for student 4: 87\n",
      "Enter name of student 5: saniya\n",
      "Enter USN of student 5: ai099\n",
      "Enter marks for subject 1 for student 5: 45\n",
      "Enter marks for subject 2 for student 5: 56\n",
      "Enter marks for subject 3 for student 5: 65\n",
      "Enter marks for subject 4 for student 5: 67\n",
      "Enter marks for subject 5 for student 5: 76\n",
      "Name: akhila, USN: ai089, Marks: [99, 88, 89, 98, 90]\n",
      "Percentage: 92.80%, Grade: A\n",
      "Name: bhoomi, USN: ai089, Marks: [99, 67, 76, 56, 65]\n",
      "Percentage: 72.60%, Grade: C\n",
      "Name: tanu, USN: ai067, Marks: [99, 98, 97, 54, 45]\n",
      "Percentage: 78.60%, Grade: C\n",
      "Name: bhavana, USN: ai001, Marks: [76, 56, 67, 78, 87]\n",
      "Percentage: 72.80%, Grade: C\n",
      "Name: saniya, USN: ai099, Marks: [45, 56, 65, 67, 76]\n",
      "Percentage: 61.80%, Grade: D\n"
     ]
    }
   ],
   "source": [
    "class Student:\n",
    "    def __init__(self, name, usn, marks):\n",
    "        self.name = name\n",
    "        self.usn = usn\n",
    "        self.marks = marks\n",
    "        self.percentage = sum(marks) / 5\n",
    "        self.grade = self.calculate_grade()\n",
    "\n",
    "    def calculate_grade(self):\n",
    "        if self.percentage >= 90:\n",
    "            return 'A'\n",
    "        elif self.percentage >= 80:\n",
    "            return 'B'\n",
    "        elif self.percentage >= 70:\n",
    "            return 'C'\n",
    "        elif self.percentage >= 60:\n",
    "            return 'D'\n",
    "        elif self.percentage >= 50:\n",
    "            return 'E'\n",
    "        else:\n",
    "            return 'F'\n",
    "\n",
    "    def display_details(self):\n",
    "        print(f\"Name: {self.name}, USN: {self.usn}, Marks: {self.marks}\")\n",
    "        print(f\"Percentage: {self.percentage:.2f}%, Grade: {self.grade}\")\n",
    "\n",
    "students = [Student(input(f\"Enter name of student {i+1}: \"), \n",
    "                    input(f\"Enter USN of student {i+1}: \"), \n",
    "                    [int(input(f\"Enter marks for subject {j+1} for student {i+1}: \")) for j in range(5)])\n",
    "            for i in range(5)]\n",
    "\n",
    "for student in students:\n",
    "    student.display_details()\n"
   ]
  },
  {
   "cell_type": "code",
   "execution_count": 1,
   "id": "e8b7b61a",
   "metadata": {},
   "outputs": [
    {
     "name": "stdout",
     "output_type": "stream",
     "text": [
      "<class '__main__.Std'>\n",
      "Enter your Name: akhila\n",
      "Enter Your USN: ai089\n",
      "Enter Your Marks in Sub1 : 98\n",
      "Enter Your Marks in Sub2 : 99\n",
      "Enter Your Marks in Sub3 : 98\n",
      "Enter Your Marks in Sub4 : 89\n",
      "Enter Your Marks in Sub5 : 90\n",
      "Name:  akhila\n",
      "USN :  ai089\n",
      "Marks in Five Subject are :\n",
      "Subject 1 = 98\n",
      "Subject 2 = 99\n",
      "Subject 3 = 98\n",
      "Subject 4 = 89\n",
      "Subject 5 = 90\n",
      "Percentage :  94.8\n",
      "Grade :  A\n"
     ]
    }
   ],
   "source": [
    "class Std:\n",
    "    def __init__(self): \n",
    "        self.__USN = None\n",
    "        self.__Name = None\n",
    "        self.__Marks = []\n",
    "        self.__Percentage = None\n",
    "        self.__Grade = None\n",
    "\n",
    "    def Std_Input(self):\n",
    "        self.__Name = input(\"Enter your Name: \")\n",
    "        self.__USN = input(\"Enter Your USN: \")\n",
    "        for i in range (0,5):\n",
    "            marks = input(f\"Enter Your Marks in Sub{i+1} : \")\n",
    "            self.__Marks.append(marks)\n",
    "\n",
    "    def calc_percentage (self):\n",
    "        sum = 0\n",
    "        for i in self.__Marks:\n",
    "            sum = sum + int(i)\n",
    "        self.__Percentage = (sum/500)*100\n",
    "\n",
    "    def calc_Grade(self):\n",
    "        per = float(self.__Percentage)\n",
    "        if per<=100 and per >=80:\n",
    "            self.__Grade = \"A\"\n",
    "        elif per<80 and per >=60:\n",
    "            self.__Grade = \"B\"\n",
    "        elif per<60 and per >=40:\n",
    "            self.__Grade = \"C\"\n",
    "        elif per<40 and per >=0:\n",
    "            self.__Grade = \"D\"\n",
    "        else: \n",
    "            self.__Grade = \"Inavlid\"\n",
    "\n",
    "    def print_details(self):\n",
    "        print(\"Name: \",self.__Name)\n",
    "        print(\"USN : \",self.__USN)\n",
    "        print(\"Marks in Five Subject are :\")\n",
    "        for i in range(0,5):\n",
    "            print(f\"Subject {i+1} = {self.__Marks[i]}\")\n",
    "        print(\"Percentage : \", self.__Percentage)\n",
    "        print(\"Grade : \", self.__Grade)\n",
    "\n",
    "    def convert_list(self):\n",
    "        st_list = [self.__USN,self.__Name,self.__Marks,self.__Percentage,self.__Grade]\n",
    "        return st_list\n",
    "\n",
    "    def covert_ob(self,stu_list):\n",
    "        self.__USN = stu_list[0]\n",
    "        self.__Name = stu_list[1]\n",
    "        self.__Marks = stu_list[2]\n",
    "        self.__Percentage = stu_list[3]\n",
    "        self.__Grade = stu_list[4]\n",
    "\n",
    "\n",
    "\n",
    "st1 = Std()\n",
    "\n",
    "print(type(st1))\n",
    "\n",
    "st1.Std_Input()\n",
    "\n",
    "st1.calc_percentage()\n",
    "st1.calc_Grade()\n",
    "\n",
    "st1.print_details()"
   ]
  },
  {
   "cell_type": "code",
   "execution_count": 2,
   "id": "e8105daf",
   "metadata": {},
   "outputs": [],
   "source": [
    "with open(\"student.txt\",'wb') as File:\n",
    "    L=st1.convert_list()\n",
    "    data = f\"{L[0]}|{L[1]}|{L[2][0]},{L[2][1]},{L[2][2]},{L[2][3]},{L[2][4]}|{L[3]}|{L[4]}\\n\"\n",
    "    File.write(data.encode())\n",
    "    File.close()"
   ]
  },
  {
   "cell_type": "code",
   "execution_count": 3,
   "id": "0d051bd8",
   "metadata": {},
   "outputs": [
    {
     "name": "stdout",
     "output_type": "stream",
     "text": [
      "ai089|akhila|98,99,98,89,90|94.8|A\n",
      "\n",
      "['ai089', 'akhila', ['98', '99', '98', '89', '90'], '94.8', 'A\\n']\n",
      "Name:  akhila\n",
      "USN :  ai089\n",
      "Marks in Five Subject are :\n",
      "Subject 1 = 98\n",
      "Subject 2 = 99\n",
      "Subject 3 = 98\n",
      "Subject 4 = 89\n",
      "Subject 5 = 90\n",
      "Percentage :  94.8\n",
      "Grade :  A\n",
      "\n"
     ]
    }
   ],
   "source": [
    "stu_list=[]\n",
    "\n",
    "with open(\"student.txt\",'rb') as File:\n",
    "    data = File.readline().decode('utf-8')\n",
    "    print(data)\n",
    "    for i in data.split(\"|\"):\n",
    "        stu_list.append(i)\n",
    "    mrks=stu_list[2]\n",
    "    mrks_list = []\n",
    "    for i in mrks.split(','):\n",
    "        mrks_list.append(i)\n",
    "    stu_list[2]=mrks_list\n",
    "\n",
    "\n",
    "print(stu_list)\n",
    "st2=Std()\n",
    "st2.covert_ob(stu_list)\n",
    "st2.print_details()"
   ]
  }
 ],
 "metadata": {
  "kernelspec": {
   "display_name": "Python 3 (ipykernel)",
   "language": "python",
   "name": "python3"
  },
  "language_info": {
   "codemirror_mode": {
    "name": "ipython",
    "version": 3
   },
   "file_extension": ".py",
   "mimetype": "text/x-python",
   "name": "python",
   "nbconvert_exporter": "python",
   "pygments_lexer": "ipython3",
   "version": "3.11.5"
  }
 },
 "nbformat": 4,
 "nbformat_minor": 5
}
