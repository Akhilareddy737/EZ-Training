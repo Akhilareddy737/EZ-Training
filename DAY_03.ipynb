{
 "cells": [
  {
   "cell_type": "markdown",
   "id": "2b8ae950",
   "metadata": {},
   "source": [
    "### Sport equipment rental system"
   ]
  },
  {
   "cell_type": "code",
   "execution_count": 2,
   "id": "9ee39703",
   "metadata": {},
   "outputs": [
    {
     "name": "stdout",
     "output_type": "stream",
     "text": [
      "Ball bat football basketball racket\n"
     ]
    }
   ],
   "source": [
    "list_of_items={'Ball':5,'bat':4,'football':5,'basketball':3,'racket':5}\n",
    "print(*list_of_items)\n",
    "def create():\n",
    "    print(\"\\t\\tCreating a dataset\")\n",
    "    print(\"----------------------------------------------------------\")\n",
    "    print(\"1.equip_name \\t quantity \\t condition \\t status \")\n",
    "    print(\"2.ball \\t\\t 5 \\t\\t good \\t\\t available\")\n",
    "    print(\"3.bat \\t\\t 3 \\t\\t better \\t unavailable\")\n",
    "    print(\"4.football \\t 5 \\t\\t good \\t\\t available\")\n",
    "    print(\"5.basketball \\t 4 \\t\\t good \\t\\t unavailable\")\n",
    "    print(\"6.racket \\t\\t 5 \\t\\t better \\t available\")\n",
    "def read():\n",
    "    print(\"Reading the datasets\")\n",
    "    print(\"------------------------------------------------------------\")\n",
    "    ch = int(input(\"enter your  :\"))"
   ]
  },
  {
   "cell_type": "markdown",
   "id": "b6628ae2",
   "metadata": {},
   "source": [
    "### File handling"
   ]
  },
  {
   "cell_type": "code",
   "execution_count": 3,
   "id": "b4fc9b3a",
   "metadata": {},
   "outputs": [],
   "source": [
    "import os\n",
    "with open(\"Akhila.txt\",'w')as f:\n",
    "    f.write(\"\\n Hello\")\n",
    "    f.write(\"\\n My name is Akhila\")\n",
    "    f.write(\"\\n I am from Ballari\")\n",
    "    f.close()"
   ]
  },
  {
   "cell_type": "code",
   "execution_count": 4,
   "id": "4633901a",
   "metadata": {},
   "outputs": [
    {
     "name": "stdout",
     "output_type": "stream",
     "text": [
      "\n",
      " Hello\n",
      " My name is Akhila\n",
      " I am from Ballari\n"
     ]
    }
   ],
   "source": [
    "with open(\"Akhila.txt\",'r')as f:\n",
    "    print(f.read())\n",
    "    f.close()"
   ]
  },
  {
   "cell_type": "code",
   "execution_count": 5,
   "id": "1b7a2b3b",
   "metadata": {},
   "outputs": [],
   "source": [
    "with open(\"Akhila.txt\",'a')as f:\n",
    "    str=\"\\n i am in bangalore\"\n",
    "    f.write(str)\n",
    "    f.close()"
   ]
  },
  {
   "cell_type": "code",
   "execution_count": 6,
   "id": "91e64c2d",
   "metadata": {},
   "outputs": [
    {
     "name": "stdout",
     "output_type": "stream",
     "text": [
      "\n",
      " Hello\n",
      " My name is Akhila\n",
      " I am from Ballari\n",
      " i am in bangalore\n"
     ]
    }
   ],
   "source": [
    "with open(\"Akhila.txt\",'r')as f:\n",
    "    print(f.read())\n",
    "    f.close()"
   ]
  },
  {
   "cell_type": "code",
   "execution_count": 7,
   "id": "02bd8cef",
   "metadata": {},
   "outputs": [],
   "source": [
    "with open(\"Akhila.txt\",'a')as f:\n",
    "    str=str.replace(\"bangalore\",\"Bitm\")\n",
    "    f.write(str)\n",
    "    f.close()"
   ]
  },
  {
   "cell_type": "code",
   "execution_count": 8,
   "id": "69af7875",
   "metadata": {},
   "outputs": [
    {
     "name": "stdout",
     "output_type": "stream",
     "text": [
      "0\n",
      "in Bitm\n"
     ]
    }
   ],
   "source": [
    "with open(\"Akhila.txt\",'rb')as f:\n",
    "    print(f.tell())\n",
    "    \n",
    "    f.seek(-7,2)\n",
    "    print(f.read().decode('utf-8'))\n",
    "    f.close()"
   ]
  },
  {
   "cell_type": "code",
   "execution_count": 9,
   "id": "1b0f972a",
   "metadata": {},
   "outputs": [
    {
     "name": "stdout",
     "output_type": "stream",
     "text": [
      "0\n",
      "76\n",
      "n Bitm\n"
     ]
    }
   ],
   "source": [
    "with open(\"Akhila.txt\",'r+b')as f:\n",
    "    print(f.tell())\n",
    "    \n",
    "    f.seek(-7,2)\n",
    "    print(f.tell())\n",
    "    f.write(b\"#\")\n",
    "    print(f.read().decode('utf-8'))\n",
    "    f.close()"
   ]
  },
  {
   "cell_type": "code",
   "execution_count": 18,
   "id": "cdf7c300",
   "metadata": {},
   "outputs": [],
   "source": [
    "import os\n",
    "os.remove(\"Akhila.txt\")"
   ]
  },
  {
   "cell_type": "code",
   "execution_count": 19,
   "id": "8e55d678",
   "metadata": {},
   "outputs": [],
   "source": [
    "import os\n",
    "\n",
    "with open(\"Akhila.txt\",'wb')as f:\n",
    "    s=\"my name is akhila \\n\"\n",
    "    f.write(s.encode())\n",
    "    f.close()"
   ]
  },
  {
   "cell_type": "code",
   "execution_count": 20,
   "id": "d8ce0431",
   "metadata": {},
   "outputs": [],
   "source": [
    "import os\n",
    "with open(\"Akhila.txt\",'wb')as file:\n",
    "    eid=1\n",
    "    name=\"bat\"\n",
    "    condition=\"good\"\n",
    "    s=f\"{eid},{name},{condition}\\n\"\n",
    "    file.write(s.encode())\n",
    "    s=f\"{eid},{name},{condition}\\n\"\n",
    "    file.write(s.encode())\n",
    "    file.close()"
   ]
  },
  {
   "cell_type": "code",
   "execution_count": 21,
   "id": "da5e5f9a",
   "metadata": {},
   "outputs": [
    {
     "name": "stdout",
     "output_type": "stream",
     "text": [
      "1,bat,good\n",
      "1,bat,good\n",
      "\n"
     ]
    }
   ],
   "source": [
    "with open(\"Akhila.txt\",'r')as f:\n",
    "    s=f.read()\n",
    "    print(s)\n",
    "    f.close()"
   ]
  }
 ],
 "metadata": {
  "kernelspec": {
   "display_name": "Python 3 (ipykernel)",
   "language": "python",
   "name": "python3"
  },
  "language_info": {
   "codemirror_mode": {
    "name": "ipython",
    "version": 3
   },
   "file_extension": ".py",
   "mimetype": "text/x-python",
   "name": "python",
   "nbconvert_exporter": "python",
   "pygments_lexer": "ipython3",
   "version": "3.11.5"
  }
 },
 "nbformat": 4,
 "nbformat_minor": 5
}
