{
 "cells": [
  {
   "cell_type": "markdown",
   "id": "9313cc82",
   "metadata": {},
   "source": [
    "### Context: A leading aerospace company, OrbitTech, is developing a satellite communication system that relies heavily on secure data transmission. The encryption keys used for securing communication between satellites and ground stations are generated based on prime numbers. To ensure the integrity and security of these keys, it is crucial to verify the primality of large numbers efficiently in real-time.\n",
    "\n",
    "Scenario: OrbitTech's satellite communication system requires real-time verification of prime numbers during the generation of encryption keys. Given the high-stakes nature of satellite data transmission, any delay or error in prime verification could compromise the security and efficiency of the system. Therefore, OrbitTech needs a reliable and efficient solution to check if given numbers are prime."
   ]
  },
  {
   "cell_type": "code",
   "execution_count": 5,
   "id": "4151e6db",
   "metadata": {},
   "outputs": [
    {
     "name": "stdout",
     "output_type": "stream",
     "text": [
      "Enter a message:9\n",
      "invalid\n"
     ]
    }
   ],
   "source": [
    "m=int(input(\"Enter a message:\"))\n",
    "flag=0\n",
    "if m<1:\n",
    "    flag=1\n",
    "elif m==1:\n",
    "    flag=0\n",
    "else:\n",
    "    for i in range(2,(m//2)+1):\n",
    "        if(m%i==0):\n",
    "            flag=1\n",
    "            break\n",
    "if(flag==1):\n",
    "    print(\"invalid\")\n",
    "else:\n",
    "    print(\"valid\")      "
   ]
  },
  {
   "cell_type": "markdown",
   "id": "3d8a37af",
   "metadata": {},
   "source": [
    "### Context: A financial services company, FutureInvest, uses advanced mathematical models to forecast market trends and make investment decisions. One of the models they use is based on the Fibonacci sequence due to its relevance in technical analysis, particularly in identifying retracement levels and predicting future price movements. Scenario: FutureInvest analysts need a reliable tool that can generate the Fibonacci sequence up to a specified number of terms. This tool will help them in creating Fibonacci retracement levels, which are critical for predicting potential reversal points in the financial markets. The accuracy and efficiency of generating these sequences are crucial for timely and effective decision-making."
   ]
  },
  {
   "cell_type": "code",
   "execution_count": 2,
   "id": "e89910f5",
   "metadata": {},
   "outputs": [
    {
     "name": "stdout",
     "output_type": "stream",
     "text": [
      "Enter the no of terms:5\n",
      "0\n",
      "1\n",
      "1\n",
      "2\n",
      "3\n"
     ]
    }
   ],
   "source": [
    "n=int(input(\"Enter the no of terms:\"))\n",
    "a=0\n",
    "b=1\n",
    "c=a+b\n",
    "if n==1:\n",
    "    print(a)\n",
    "elif n==2:\n",
    "    print(a)\n",
    "    print(b)\n",
    "else:\n",
    "    print(a)\n",
    "    print(b)\n",
    "for i in range(2,n):\n",
    "    print(c)\n",
    "    a=b\n",
    "    b=c\n",
    "    c=a+b"
   ]
  },
  {
   "cell_type": "code",
   "execution_count": 3,
   "id": "7a8a59ff",
   "metadata": {},
   "outputs": [
    {
     "name": "stdout",
     "output_type": "stream",
     "text": [
      "7\n",
      "(11, 27, False)\n"
     ]
    }
   ],
   "source": [
    "def check_prime(m):\n",
    "    flag=0\n",
    "    if m<1:\n",
    "        flag=1\n",
    "    elif m==1:\n",
    "        flag=0\n",
    "    else:\n",
    "        for i in range(2,(m//2)+1):\n",
    "            if m%i==0:\n",
    "                flag=1\n",
    "                break\n",
    "    if flag==0:\n",
    "        return 1\n",
    "    else:\n",
    "        return 0\n",
    "        \n",
    "result=[]     \n",
    "N=int(input())\n",
    "flag=0\n",
    "k=N+1\n",
    "while flag<1:\n",
    "    flag=check_prime(k)\n",
    "    if flag==1:\n",
    "        result.append(k)\n",
    "    else:\n",
    "        k=k+1\n",
    "sum=0\n",
    "for i in range(N+1,k):\n",
    "    sum+=i\n",
    "result.append(sum)\n",
    "\n",
    "p1=k\n",
    "flag=0\n",
    "k=p1+1\n",
    "while flag<1:\n",
    "    flag=check_prime(k)\n",
    "    if flag==1:\n",
    "        p2=k\n",
    "    else:\n",
    "        k=k+1\n",
    "        \n",
    "p3=p1*p2\n",
    "flag=check_prime(p3)\n",
    "if flag==0:\n",
    "    result.append(False)\n",
    "else:\n",
    "    result.append(True)\n",
    "\n",
    "Prime_key=tuple(result)\n",
    "\n",
    "print(Prime_key)"
   ]
  },
  {
   "cell_type": "code",
   "execution_count": 4,
   "id": "7b75b409",
   "metadata": {},
   "outputs": [
    {
     "name": "stdout",
     "output_type": "stream",
     "text": [
      "enter the value:7\n",
      "(11, 27, False)\n"
     ]
    }
   ],
   "source": [
    "def check_prime(m):\n",
    "    flag=0\n",
    "    if m<1:\n",
    "        flag=1\n",
    "    if m==1:\n",
    "        flag=0\n",
    "    for i in range(2,(m//2)+1):\n",
    "        if m%i==0:\n",
    "            flag=1\n",
    "            break\n",
    "    if flag==0:\n",
    "        return 1\n",
    "    else:\n",
    "        return 0\n",
    "result=[]\n",
    "N=int(input(\"enter the value:\"))\n",
    "flag=0\n",
    "k=N+1\n",
    "while flag<1:\n",
    "    flag=check_prime(k)\n",
    "    if flag==1:\n",
    "        result.append(k)\n",
    "    else:\n",
    "        k=k+1\n",
    "\n",
    "sum=0\n",
    "for i in range(N+1,k):\n",
    "    sum+=i\n",
    "result.append(sum)\n",
    "p1=k\n",
    "flag=0\n",
    "k=p1+1\n",
    "while flag<1:\n",
    "    flag=check_prime(k)\n",
    "    if flag==1:\n",
    "       p2=k\n",
    "    else:\n",
    "        k=k+1\n",
    "\n",
    "p3=p1*p2\n",
    "flag=check_prime(p3)\n",
    "if flag==0:\n",
    "    result.append(False)\n",
    "else:\n",
    "    result.append(True)\n",
    "Prime_key=tuple(result)\n",
    "print(Prime_key)"
   ]
  }
 ],
 "metadata": {
  "kernelspec": {
   "display_name": "Python 3 (ipykernel)",
   "language": "python",
   "name": "python3"
  },
  "language_info": {
   "codemirror_mode": {
    "name": "ipython",
    "version": 3
   },
   "file_extension": ".py",
   "mimetype": "text/x-python",
   "name": "python",
   "nbconvert_exporter": "python",
   "pygments_lexer": "ipython3",
   "version": "3.11.5"
  }
 },
 "nbformat": 4,
 "nbformat_minor": 5
}
