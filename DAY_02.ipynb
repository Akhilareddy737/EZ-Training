{
 "cells": [
  {
   "cell_type": "markdown",
   "id": "27613c7a",
   "metadata": {},
   "source": [
    "## List"
   ]
  },
  {
   "cell_type": "code",
   "execution_count": 1,
   "id": "584d99be",
   "metadata": {},
   "outputs": [
    {
     "name": "stdout",
     "output_type": "stream",
     "text": [
      "3 4 3 4 "
     ]
    }
   ],
   "source": [
    "a=[1,2,3,4,5]\n",
    "for i in range(1,4):\n",
    "    a[i-2]=a[i]\n",
    "for i in range(0,4):\n",
    "    print(a[i],end=\" \")"
   ]
  },
  {
   "cell_type": "code",
   "execution_count": 8,
   "id": "5850b434",
   "metadata": {},
   "outputs": [
    {
     "name": "stdout",
     "output_type": "stream",
     "text": [
      "[1, 2, 3, 4, 5, 6]\n",
      "[1, 2, 3, 4, 5, 6, [4, 5, 6]]\n",
      "[4, 5, 6]\n"
     ]
    }
   ],
   "source": [
    "a=[1,2,3]\n",
    "b=[4,5,6]\n",
    "a.extend(b)\n",
    "print(a)\n",
    "a.append(b)\n",
    "print(a)\n",
    "c=b.copy()\n",
    "print(c)"
   ]
  },
  {
   "cell_type": "code",
   "execution_count": 3,
   "id": "7a11753c",
   "metadata": {},
   "outputs": [
    {
     "name": "stdout",
     "output_type": "stream",
     "text": [
      "1\n"
     ]
    }
   ],
   "source": [
    "a=(1,2,3,4,5,6)\n",
    "b=a.count(2)\n",
    "print(b)"
   ]
  },
  {
   "cell_type": "code",
   "execution_count": 4,
   "id": "aad8346f",
   "metadata": {},
   "outputs": [
    {
     "name": "stdout",
     "output_type": "stream",
     "text": [
      "(1, 2, 3, 4, 5, 6, 6, 7, 8, 9)\n"
     ]
    }
   ],
   "source": [
    "b=(6,7,8,9)\n",
    "print(a+b)"
   ]
  },
  {
   "cell_type": "code",
   "execution_count": 5,
   "id": "f13cd82e",
   "metadata": {},
   "outputs": [
    {
     "name": "stdout",
     "output_type": "stream",
     "text": [
      "5\n",
      "a\n",
      "2\n",
      "c\n",
      "3\n",
      "d\n",
      "5: a\n",
      "2: c\n",
      "3: d\n",
      "\n",
      "5:a\n",
      "2:c\n",
      "3:d\n"
     ]
    }
   ],
   "source": [
    "d={}\n",
    "for i in range(3):\n",
    "    key=input()\n",
    "    value=input()\n",
    "    d[key]=value\n",
    "for k,v in d.items(): #built in function\n",
    "    print(k+\":\",v)\n",
    "print()\n",
    "for i in d:\n",
    "    print(i+\":\"+d[i])"
   ]
  },
  {
   "cell_type": "code",
   "execution_count": 6,
   "id": "231b4b46",
   "metadata": {},
   "outputs": [
    {
     "name": "stdout",
     "output_type": "stream",
     "text": [
      "{1: 'abc', 2: 'bcd', 3.5: 12}\n",
      "{1: 'abc', 2: 12, 3.5: 12}\n",
      "12\n"
     ]
    }
   ],
   "source": [
    "a={1:'abc',2:\"bcd\",3.5:12}\n",
    "print(a)\n",
    "a[2]=12\n",
    "print(a)\n",
    "print(a.get(3.5))"
   ]
  },
  {
   "cell_type": "code",
   "execution_count": 7,
   "id": "b14d9551",
   "metadata": {},
   "outputs": [
    {
     "name": "stdout",
     "output_type": "stream",
     "text": [
      "[-2, 0, 3, 21, 23, 100]\n",
      "[100, 23, 21, 3, 0, -2]\n",
      "[-2, 0, 3, 21, 23, 100]\n"
     ]
    }
   ],
   "source": [
    "a=[21,3,0,-2,23,100]\n",
    "a.sort()\n",
    "print(a)\n",
    "b=sorted(a,reverse=True)\n",
    "print(b)\n",
    "print(a)"
   ]
  },
  {
   "cell_type": "code",
   "execution_count": 9,
   "id": "ef3bf8f3",
   "metadata": {},
   "outputs": [
    {
     "name": "stdout",
     "output_type": "stream",
     "text": [
      "[21, 3, 0, -2, 23, 100, [1, 2]]\n"
     ]
    }
   ],
   "source": [
    "a=[21,3,0,-2,23,100]\n",
    "b=[1,2]\n",
    "a.append(b)\n",
    "print(a)"
   ]
  },
  {
   "cell_type": "code",
   "execution_count": null,
   "id": "6be12669",
   "metadata": {},
   "outputs": [],
   "source": []
  }
 ],
 "metadata": {
  "kernelspec": {
   "display_name": "Python 3 (ipykernel)",
   "language": "python",
   "name": "python3"
  },
  "language_info": {
   "codemirror_mode": {
    "name": "ipython",
    "version": 3
   },
   "file_extension": ".py",
   "mimetype": "text/x-python",
   "name": "python",
   "nbconvert_exporter": "python",
   "pygments_lexer": "ipython3",
   "version": "3.11.5"
  }
 },
 "nbformat": 4,
 "nbformat_minor": 5
}
