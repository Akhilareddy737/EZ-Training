{
 "cells": [
  {
   "cell_type": "markdown",
   "id": "43b47ac2",
   "metadata": {},
   "source": [
    "## Trees"
   ]
  },
  {
   "cell_type": "markdown",
   "id": "ec31b10d",
   "metadata": {},
   "source": [
    "### Preorder"
   ]
  },
  {
   "cell_type": "code",
   "execution_count": 1,
   "id": "457485f1",
   "metadata": {},
   "outputs": [
    {
     "name": "stdout",
     "output_type": "stream",
     "text": [
      "1\n",
      "2\n",
      "4\n",
      "5\n",
      "3\n",
      "6\n",
      "7\n"
     ]
    }
   ],
   "source": [
    "class node:\n",
    "    def __init__(self,data):\n",
    "        self.value=data\n",
    "        self.left=None\n",
    "        self.right=None\n",
    "    \n",
    "def preorder(root):\n",
    "    if root==None:\n",
    "        return\n",
    "    \n",
    "    print(root.value)\n",
    "    preorder(root.left)\n",
    "    preorder(root.right)\n",
    "    \n",
    "if __name__==\"__main__\":\n",
    "    root=node(1)\n",
    "    \n",
    "    root.left=node(2)\n",
    "    root.right=node(3)\n",
    "    \n",
    "    root.left.left=node(4)\n",
    "    root.left.right=node(5)\n",
    "    \n",
    "    root.right.left=node(6)\n",
    "    root.right.right=node(7)\n",
    "preorder(root)"
   ]
  },
  {
   "cell_type": "markdown",
   "id": "1e9f3a20",
   "metadata": {},
   "source": [
    "### Inorder"
   ]
  },
  {
   "cell_type": "code",
   "execution_count": 2,
   "id": "6d3e0969",
   "metadata": {},
   "outputs": [
    {
     "name": "stdout",
     "output_type": "stream",
     "text": [
      "4\n",
      "2\n",
      "5\n",
      "1\n",
      "6\n",
      "3\n",
      "7\n"
     ]
    }
   ],
   "source": [
    "class node:\n",
    "    def __init__(self,data):\n",
    "        self.value=data\n",
    "        self.left=None\n",
    "        self.right=None\n",
    "    \n",
    "def inorder(root):\n",
    "    if root==None:\n",
    "        return\n",
    "    \n",
    "    inorder(root.left)\n",
    "    print(root.value)\n",
    "    inorder(root.right)\n",
    "    \n",
    "if __name__==\"__main__\":\n",
    "    root=node(1)\n",
    "    \n",
    "    root.left=node(2)\n",
    "    root.right=node(3)\n",
    "    \n",
    "    root.left.left=node(4)\n",
    "    root.left.right=node(5)\n",
    "    \n",
    "    root.right.left=node(6)\n",
    "    root.right.right=node(7)\n",
    "inorder(root)"
   ]
  },
  {
   "cell_type": "markdown",
   "id": "d44b2581",
   "metadata": {},
   "source": [
    "### Postorder"
   ]
  },
  {
   "cell_type": "code",
   "execution_count": 3,
   "id": "90f78813",
   "metadata": {},
   "outputs": [
    {
     "name": "stdout",
     "output_type": "stream",
     "text": [
      "4\n",
      "5\n",
      "2\n",
      "6\n",
      "7\n",
      "3\n",
      "1\n"
     ]
    }
   ],
   "source": [
    "class node:\n",
    "    def __init__(self,data):\n",
    "        self.value=data\n",
    "        self.left=None\n",
    "        self.right=None\n",
    "    \n",
    "def postorder(root):\n",
    "    if root==None:\n",
    "        return\n",
    "    \n",
    "    postorder(root.left)\n",
    "    postorder(root.right)\n",
    "    print(root.value)\n",
    "    \n",
    "if __name__==\"__main__\":\n",
    "    root=node(1)\n",
    "    \n",
    "    root.left=node(2)\n",
    "    root.right=node(3)\n",
    "    \n",
    "    root.left.left=node(4)\n",
    "    root.left.right=node(5)\n",
    "    \n",
    "    root.right.left=node(6)\n",
    "    root.right.right=node(7)\n",
    "postorder(root)"
   ]
  },
  {
   "cell_type": "markdown",
   "id": "cad2c2b0",
   "metadata": {},
   "source": [
    "### Levelorder"
   ]
  },
  {
   "cell_type": "code",
   "execution_count": 4,
   "id": "2840e75f",
   "metadata": {},
   "outputs": [
    {
     "name": "stdout",
     "output_type": "stream",
     "text": [
      "1 \n",
      "2 3 \n",
      "4 5 6 7 \n",
      "9 10 11 \n",
      "12 13 "
     ]
    }
   ],
   "source": [
    "class node:\n",
    "    def __init__(self,data):\n",
    "        self.value=data\n",
    "        self.left=None\n",
    "        self.right=None\n",
    "    \n",
    "def levelorder(root):\n",
    "    Q=[root]\n",
    "    Q.append(None)\n",
    "    \n",
    "    while len(Q)>0:\n",
    "        curr=Q.pop(0)\n",
    "        \n",
    "        if curr==None:\n",
    "            if len(Q)==0:\n",
    "                break\n",
    "            else:\n",
    "                print()\n",
    "                Q.append(None)\n",
    "        else:\n",
    "            print(curr.value,end=\" \")\n",
    "            if curr.left!=None:\n",
    "                Q.append(curr.left)\n",
    "            if curr.right!=None:\n",
    "                Q.append(curr.right)\n",
    "    \n",
    "if __name__==\"__main__\":\n",
    "    root=node(1)\n",
    "    \n",
    "    root.left=node(2)\n",
    "    root.right=node(3)\n",
    "    \n",
    "    root.left.left=node(4)\n",
    "    root.left.right=node(5)\n",
    "    \n",
    "    root.right.left=node(6)\n",
    "    root.right.right=node(7)\n",
    "    root.left.right.left=node(9)\n",
    "    root.left.right.right=node(10)\n",
    "    root.right.right.right=node(11)\n",
    "    root.left.right.left.left=node(12)\n",
    "    root.left.right.left.right=node(13)\n",
    "    levelorder(root)"
   ]
  },
  {
   "cell_type": "markdown",
   "id": "1a19f6e9",
   "metadata": {},
   "source": [
    "### To find height of a tree"
   ]
  },
  {
   "cell_type": "code",
   "execution_count": 12,
   "id": "7438951f",
   "metadata": {},
   "outputs": [
    {
     "data": {
      "text/plain": [
       "7"
      ]
     },
     "execution_count": 12,
     "metadata": {},
     "output_type": "execute_result"
    }
   ],
   "source": [
    "class node:\n",
    "    def __init__(self,data):\n",
    "        self.value=data\n",
    "        self.left=None\n",
    "        self.right=None\n",
    "def Height(root):\n",
    "    if root==None:\n",
    "        return 0\n",
    "    LH=Height(root.left)\n",
    "    RH=Height(root.right)\n",
    "    return max(LH,RH)+1\n",
    "\n",
    "if __name__==\"__main__\":\n",
    "    root=node(1)\n",
    "    \n",
    "    root.left=node(2)\n",
    "    root.right=node(5)\n",
    "    \n",
    "    root.left.left=node(3)\n",
    "    root.left.right=node(4)\n",
    "    \n",
    "    root.right.right=node(6)\n",
    "    root.left.right.left=node(9)\n",
    "    root.right.right.left=node(7)\n",
    "    root.right.right.right=node(8)\n",
    "    root.left.right.left.right=node(10)\n",
    "    root.right.right.left.right=node(11)\n",
    "    root.left.right.left.right.left=node(14)\n",
    "    root.right.right.left.right.left=node(12)\n",
    "    root.right.right.left.right.left.right=node(13)\n",
    "Height(root)"
   ]
  },
  {
   "cell_type": "markdown",
   "id": "3d5b225f",
   "metadata": {},
   "source": [
    "### Topview of a tree"
   ]
  },
  {
   "cell_type": "code",
   "execution_count": 15,
   "id": "51404ee1",
   "metadata": {},
   "outputs": [
    {
     "name": "stdout",
     "output_type": "stream",
     "text": [
      "3\n",
      "2\n",
      "1\n",
      "5\n",
      "6\n",
      "8\n",
      "{0: 1, -1: 2, 1: 5, -2: 3, 2: 6, 3: 8}\n"
     ]
    }
   ],
   "source": [
    "class node_data:\n",
    "    def __init__(self,Node,HKey):\n",
    "        self.node=Node\n",
    "        self.hkey=HKey\n",
    "\n",
    "def topview(root):\n",
    "    if root is None:\n",
    "        return\n",
    "\n",
    "    temp=node_data(root,0)\n",
    "    Q=[temp]\n",
    "    Q.append(None)\n",
    "\n",
    "    key_Dict={}\n",
    "\n",
    "    while len(Q)!=0:\n",
    "        curr=Q.pop(0)\n",
    "                            \n",
    "        if curr==None:\n",
    "            if len(Q)==0:\n",
    "                break\n",
    "            else:\n",
    "                Q.append(None)\n",
    "        else:\n",
    "            if curr.hkey not in key_Dict.keys():\n",
    "                key_Dict[curr.hkey]=curr.node.value\n",
    "\n",
    "            if curr.node.left!=None:\n",
    "                temp=node_data(curr.node.left,curr.hkey-1)\n",
    "                Q.append(temp)\n",
    "\n",
    "            if curr.node.right!=None:\n",
    "                temp=node_data(curr.node.right,curr.hkey+1)\n",
    "                Q.append(temp)\n",
    "\n",
    "    for i in sorted(key_Dict):\n",
    "        print(key_Dict[i])\n",
    "    print(key_Dict)\n",
    "topview(root)"
   ]
  },
  {
   "cell_type": "markdown",
   "id": "a44a94c3",
   "metadata": {},
   "source": [
    "### Bottom view"
   ]
  },
  {
   "cell_type": "code",
   "execution_count": 24,
   "id": "7eafd56f",
   "metadata": {},
   "outputs": [
    {
     "name": "stdout",
     "output_type": "stream",
     "text": [
      "3\n",
      "14\n",
      "10\n",
      "12\n",
      "13\n",
      "8\n",
      "{0: 10, -1: 14, 1: 12, -2: 3, 2: 13, 3: 8}\n"
     ]
    }
   ],
   "source": [
    "class node_data:\n",
    "    def __init__(self,Node,HKey):\n",
    "        self.node=Node\n",
    "        self.hkey=HKey\n",
    "\n",
    "def bottomview(root):\n",
    "    if root is None:\n",
    "        return\n",
    "\n",
    "    temp=node_data(root,0)\n",
    "    Q=[temp]\n",
    "    Q.append(None)\n",
    "\n",
    "    key_Dict={}\n",
    "\n",
    "    while len(Q)!=0:\n",
    "        curr=Q.pop(0)\n",
    "                            \n",
    "        if curr==None:\n",
    "            if len(Q)==0:\n",
    "                break\n",
    "            else:\n",
    "                Q.append(None)\n",
    "        else:\n",
    "            \n",
    "            #if curr.hkey not in key_Dict.keys():\n",
    "            key_Dict[curr.hkey]=curr.node.value\n",
    "\n",
    "            if curr.node.left!=None:\n",
    "                temp=node_data(curr.node.left,curr.hkey-1)\n",
    "                Q.append(temp)\n",
    "\n",
    "            if curr.node.right!=None:\n",
    "                temp=node_data(curr.node.right,curr.hkey+1)\n",
    "                Q.append(temp)\n",
    "\n",
    "    for i in sorted(key_Dict):\n",
    "        print(key_Dict[i])\n",
    "    print(key_Dict)\n",
    "bottomview(root)"
   ]
  },
  {
   "cell_type": "markdown",
   "id": "f45f52c4",
   "metadata": {},
   "source": [
    "### Left view"
   ]
  },
  {
   "cell_type": "code",
   "execution_count": 30,
   "id": "025e0c31",
   "metadata": {},
   "outputs": [
    {
     "name": "stdout",
     "output_type": "stream",
     "text": [
      "1\n",
      "2\n",
      "4\n",
      "9\n",
      "12\n"
     ]
    }
   ],
   "source": [
    "class node:\n",
    "    def __init__(self,data):\n",
    "        self.value=data\n",
    "        self.left=None\n",
    "        self.right=None\n",
    "    \n",
    "def leftview(root):\n",
    "    Q=[root]\n",
    "    Q.append(None)\n",
    "    \n",
    "    while len(Q)>0:\n",
    "        curr=Q.pop(0)\n",
    "        \n",
    "        if curr==None:\n",
    "            if len(Q)==0:\n",
    "                break\n",
    "            else:\n",
    "                print(Q[0].value)\n",
    "                Q.append(None)\n",
    "        else:\n",
    "            #print(curr.value,end=\" \")\n",
    "            if curr.left!=None:\n",
    "                Q.append(curr.left)\n",
    "            if curr.right!=None:\n",
    "                Q.append(curr.right)\n",
    "    \n",
    "if __name__==\"__main__\":\n",
    "    root=node(1)\n",
    "    \n",
    "    root.left=node(2)\n",
    "    root.right=node(3)\n",
    "    \n",
    "    root.left.left=node(4)\n",
    "    root.left.right=node(5)\n",
    "    \n",
    "    root.right.left=node(6)\n",
    "    root.right.right=node(7)\n",
    "    root.left.right.left=node(9)\n",
    "    root.left.right.right=node(10)\n",
    "    root.right.right.right=node(11)\n",
    "    root.left.right.left.left=node(12)\n",
    "    root.left.right.left.right=node(13)\n",
    "    print(root.value)\n",
    "leftview(root)"
   ]
  },
  {
   "cell_type": "markdown",
   "id": "412d8cd4",
   "metadata": {},
   "source": [
    "### Right view"
   ]
  },
  {
   "cell_type": "code",
   "execution_count": 32,
   "id": "ab37cf9a",
   "metadata": {},
   "outputs": [
    {
     "name": "stdout",
     "output_type": "stream",
     "text": [
      "1\n",
      "3\n",
      "5\n",
      "10\n",
      "13\n"
     ]
    }
   ],
   "source": [
    "class node:\n",
    "    def __init__(self,data):\n",
    "        self.value=data\n",
    "        self.left=None\n",
    "        self.right=None\n",
    "    \n",
    "def rightview(root):\n",
    "    Q=[root]\n",
    "    Q.append(None)\n",
    "    \n",
    "    while len(Q)>0:\n",
    "        curr=Q.pop(0)\n",
    "        \n",
    "        if curr==None:\n",
    "            if len(Q)==0:\n",
    "                break\n",
    "            else:\n",
    "                print(Q[0].value)\n",
    "                Q.append(None)\n",
    "        else:\n",
    "            #print(curr.value,end=\" \")\n",
    "            if curr.left!=None:\n",
    "                Q.append(curr.left)\n",
    "            if curr.right!=None:\n",
    "                Q.append(curr.right)\n",
    "    \n",
    "if __name__==\"__main__\":\n",
    "    root=node(1)\n",
    "    \n",
    "    root.left=node(2)\n",
    "    root.right=node(3)\n",
    "    \n",
    "    root.left.left=node(4)\n",
    "    root.left.right=node(5)\n",
    "    \n",
    "    root.right.left=node(6)\n",
    "    root.right.right=node(7)\n",
    "    root.left.right.left=node(9)\n",
    "    root.left.right.right=node(10)\n",
    "    root.right.right.right=node(11)\n",
    "    root.left.right.left.left=node(12)\n",
    "    root.left.right.left.right=node(13)\n",
    "    print(root.value)\n",
    "rightview(root)"
   ]
  },
  {
   "cell_type": "code",
   "execution_count": null,
   "id": "3e3ce29e",
   "metadata": {},
   "outputs": [],
   "source": []
  }
 ],
 "metadata": {
  "kernelspec": {
   "display_name": "Python 3 (ipykernel)",
   "language": "python",
   "name": "python3"
  },
  "language_info": {
   "codemirror_mode": {
    "name": "ipython",
    "version": 3
   },
   "file_extension": ".py",
   "mimetype": "text/x-python",
   "name": "python",
   "nbconvert_exporter": "python",
   "pygments_lexer": "ipython3",
   "version": "3.11.5"
  }
 },
 "nbformat": 4,
 "nbformat_minor": 5
}
