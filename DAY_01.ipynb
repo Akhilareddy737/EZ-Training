{
 "cells": [
  {
   "cell_type": "code",
   "execution_count": 1,
   "id": "beb0adbb",
   "metadata": {},
   "outputs": [
    {
     "name": "stdout",
     "output_type": "stream",
     "text": [
      "10\n",
      "Buzz\n"
     ]
    }
   ],
   "source": [
    "n=int(input())\n",
    "if(n%3==0):\n",
    "    if(n%5==0):\n",
    "        print(\"fizz Buzz\")\n",
    "    else:\n",
    "        print(\"fizz\")\n",
    "elif(n%5==0):\n",
    "    print(\"Buzz\")"
   ]
  },
  {
   "cell_type": "code",
   "execution_count": 2,
   "id": "683fa27f",
   "metadata": {},
   "outputs": [
    {
     "name": "stdout",
     "output_type": "stream",
     "text": [
      "5\n",
      "Buzz\n"
     ]
    }
   ],
   "source": [
    "n=int(input())\n",
    "if(n%3==0 and n%5==0):\n",
    "        print(\"fizz Buzz\")\n",
    "elif(n%3==0):\n",
    "        print(\"fizz\")\n",
    "elif(n%5==0):\n",
    "    print(\"Buzz\")"
   ]
  },
  {
   "cell_type": "code",
   "execution_count": 3,
   "id": "890dd385",
   "metadata": {},
   "outputs": [
    {
     "name": "stdout",
     "output_type": "stream",
     "text": [
      "1 2 3 4 6 7 8 9 10 "
     ]
    }
   ],
   "source": [
    "a=0   \n",
    "while a<10:\n",
    "    a+=1\n",
    "    if a==5 and a<10:\n",
    "        continue\n",
    "    print(a,end=\" \")"
   ]
  },
  {
   "cell_type": "markdown",
   "id": "ae80295f",
   "metadata": {},
   "source": [
    "## Harshad Number"
   ]
  },
  {
   "cell_type": "code",
   "execution_count": 4,
   "id": "9574cef9",
   "metadata": {},
   "outputs": [
    {
     "name": "stdout",
     "output_type": "stream",
     "text": [
      "Enter the number:7\n",
      "Harshad Number\n"
     ]
    }
   ],
   "source": [
    "def sof(c):\n",
    "    rem=0\n",
    "    sum=0\n",
    "    while c!=0:\n",
    "        rem=c%10\n",
    "        sum=sum+rem\n",
    "        c=c//10\n",
    "    return sum\n",
    "a=int(input(\"Enter the number:\"))\n",
    "sumofdig=sof(a)\n",
    "if a%sumofdig==0:\n",
    "    print(\"Harshad Number\")\n",
    "else:\n",
    "    print(\"Not a Harshad Number\")"
   ]
  },
  {
   "cell_type": "markdown",
   "id": "708885d2",
   "metadata": {},
   "source": [
    "## Happy Number\n",
    "19->square of digit->1+81=82 82->64+4=68 68->36+64=100 100->1 if you get the output as 1 then it is called as happy number\n",
    "\n",
    "12->1+4=5 5 is not a happy number"
   ]
  },
  {
   "cell_type": "code",
   "execution_count": 5,
   "id": "4fb3753f",
   "metadata": {},
   "outputs": [
    {
     "name": "stdout",
     "output_type": "stream",
     "text": [
      "12\n",
      "Not a Happy Number\n"
     ]
    }
   ],
   "source": [
    "def sosd(c):\n",
    "    rem=0\n",
    "    sum=0\n",
    "    while c!=0:\n",
    "        rem=c%10\n",
    "        sum=sum+rem*rem\n",
    "        c=c//10\n",
    "    return sum\n",
    "a=int(input())\n",
    "ans=sosd(a)\n",
    "while True:\n",
    "    if ans>=0 and ans<10:\n",
    "        if ans==1:\n",
    "            print(\"Happy Number\")\n",
    "            break\n",
    "        else:\n",
    "            print(\"Not a Happy Number\")\n",
    "            break\n",
    "    else:\n",
    "        ans=sosd(ans)"
   ]
  },
  {
   "cell_type": "code",
   "execution_count": null,
   "id": "1fcca582",
   "metadata": {},
   "outputs": [],
   "source": []
  }
 ],
 "metadata": {
  "kernelspec": {
   "display_name": "Python 3 (ipykernel)",
   "language": "python",
   "name": "python3"
  },
  "language_info": {
   "codemirror_mode": {
    "name": "ipython",
    "version": 3
   },
   "file_extension": ".py",
   "mimetype": "text/x-python",
   "name": "python",
   "nbconvert_exporter": "python",
   "pygments_lexer": "ipython3",
   "version": "3.11.5"
  }
 },
 "nbformat": 4,
 "nbformat_minor": 5
}
