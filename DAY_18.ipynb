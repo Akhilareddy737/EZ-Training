{
 "cells": [
  {
   "cell_type": "code",
   "execution_count": 1,
   "id": "d2252c6a",
   "metadata": {},
   "outputs": [
    {
     "name": "stdout",
     "output_type": "stream",
     "text": [
      "10 100 20 \n",
      "62 72 \n",
      "16 86 76 \n",
      "7 \n",
      "99 \n"
     ]
    }
   ],
   "source": [
    "class Node:\n",
    "    def __init__(self, data):\n",
    "        self.data = data\n",
    "        self.next = None\n",
    "\n",
    "    def append(self, data):\n",
    "        new_node = Node(data)\n",
    "        current = self\n",
    "        while current.next is not None:\n",
    "            current = current.next\n",
    "        current.next = new_node\n",
    "\n",
    "input_list = [10, 16, 62, 100, 20, 86, 72, 7, 76, 99]\n",
    "head_list = [None] * 10\n",
    "\n",
    "for i in input_list:\n",
    "    remainder = i % 10\n",
    "    if head_list[remainder] is None:\n",
    "        head_list[remainder] = Node(i)\n",
    "    else:\n",
    "        head_list[remainder].append(i)\n",
    "\n",
    "for i in range(len(head_list)):\n",
    "    if head_list[i] is not None:\n",
    "        current = head_list[i]\n",
    "        while current:\n",
    "            print(current.data, end=\" \")\n",
    "            current = current.next\n",
    "        print()"
   ]
  },
  {
   "cell_type": "code",
   "execution_count": 2,
   "id": "0815e8d4",
   "metadata": {},
   "outputs": [
    {
     "name": "stdout",
     "output_type": "stream",
     "text": [
      "[10, 100, 22, 42, 50, 92, 56, 47, 78, 99]\n"
     ]
    }
   ],
   "source": [
    "l=[22,10,47,42,56,100,50,92,99,78]\n",
    "hash_table=[False]*10\n",
    "for element in l:\n",
    "    h_k=element % 10\n",
    "    for i in range(len(l)):\n",
    "       h1_k=(h_k+i)%10\n",
    "       if hash_table[h1_k] ==False:\n",
    "           hash_table[h1_k]=element\n",
    "           break\n",
    "print(hash_table)           \n",
    "      \n",
    "\n"
   ]
  },
  {
   "cell_type": "code",
   "execution_count": null,
   "id": "15091aab",
   "metadata": {},
   "outputs": [],
   "source": []
  }
 ],
 "metadata": {
  "kernelspec": {
   "display_name": "Python 3 (ipykernel)",
   "language": "python",
   "name": "python3"
  },
  "language_info": {
   "codemirror_mode": {
    "name": "ipython",
    "version": 3
   },
   "file_extension": ".py",
   "mimetype": "text/x-python",
   "name": "python",
   "nbconvert_exporter": "python",
   "pygments_lexer": "ipython3",
   "version": "3.11.5"
  }
 },
 "nbformat": 4,
 "nbformat_minor": 5
}
