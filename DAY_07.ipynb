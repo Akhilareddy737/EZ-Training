{
 "cells": [
  {
   "cell_type": "markdown",
   "id": "79752d19",
   "metadata": {},
   "source": [
    "## Stack"
   ]
  },
  {
   "cell_type": "code",
   "execution_count": 2,
   "id": "3d63c788",
   "metadata": {},
   "outputs": [
    {
     "name": "stdout",
     "output_type": "stream",
     "text": [
      "[10, 40, 30, 20]\n",
      "20\n",
      "[10, 40, 30]\n",
      "3\n"
     ]
    }
   ],
   "source": [
    "class Stack:\n",
    "    def __init__(self):\n",
    "        self.items=[]\n",
    "    def push(self,data):\n",
    "        self.items.append(data)\n",
    "    def pop(self):\n",
    "        return self.items.pop()\n",
    "    def size(self):\n",
    "        return len(self.items)\n",
    "st=Stack()\n",
    "st.push(10)\n",
    "st.push(40)\n",
    "st.push(30)\n",
    "st.push(20)\n",
    "print(st.items)\n",
    "print(st.pop())\n",
    "print(st.items)\n",
    "print(st.size())"
   ]
  },
  {
   "cell_type": "markdown",
   "id": "2e3c1c00",
   "metadata": {},
   "source": [
    "### A Student is given a task to create some mathematical expression for BODMAS. but due to some other work he forgot to do that but in the night he clicked that he have to create some expression for BODMAS due to sleepy mood he did some mistake while putting the brackets. you job is to check wether the expression give by that boy is Valid or not.\n",
    "\n",
    "Sample Input: [3+7{52/11(3+5)}] Valid expression as all the brackets are properly open and close [4-6{235(9+6)] Invalid expression as some brackets are not proper."
   ]
  },
  {
   "cell_type": "code",
   "execution_count": 3,
   "id": "10317e04",
   "metadata": {},
   "outputs": [
    {
     "name": "stdout",
     "output_type": "stream",
     "text": [
      "valid\n",
      "[]\n"
     ]
    }
   ],
   "source": [
    "class Stack:\n",
    "    def __init__(self):\n",
    "        self.items=[]\n",
    "    def push(self,data):\n",
    "        self.items.append(data)\n",
    "    def pop(self):\n",
    "        return self.items.pop()\n",
    "S=Stack()\n",
    "e=\"[3+7{52/11(3+5)}]\"\n",
    "OB=\"[{(\"\n",
    "CB=\")}]\"\n",
    "flag=0\n",
    "for i in e:\n",
    "    if i in OB:\n",
    "        S.push(i)\n",
    "    if i in CB:\n",
    "        x=S.pop()\n",
    "        if x==\"(\" and i==\")\":\n",
    "            pass\n",
    "        elif x==\"{\" and i==\"}\":\n",
    "            pass\n",
    "        elif x==\"[\" and i==\"]\":\n",
    "            pass \n",
    "        else:\n",
    "            flag=1\n",
    "            break\n",
    "if(flag==0):\n",
    "    print(\"valid\")\n",
    "else:\n",
    "    print(\"invalid\")\n",
    "print(S.items)"
   ]
  },
  {
   "cell_type": "markdown",
   "id": "cd701e13",
   "metadata": {},
   "source": [
    "### In a tyre factory many workers are working there, each worker is assigned with a integer number which help them to find their Supervisor. the project Manager having an Array that consist of a integer numbers help the project Manager to find thier supervisors. Supervisor will be assigned as the first largest integer find on the right side of the array if not found return -1.\n",
    "\n",
    "i/p: [3,5,2,14,5,3,7,9,4,6,9,4,2,5,3] o/p:=[5,14,14,-1,7,7,9,-1,6,9,-1,5,5,-1,-1]"
   ]
  },
  {
   "cell_type": "code",
   "execution_count": 6,
   "id": "5202a0c4",
   "metadata": {},
   "outputs": [
    {
     "name": "stdout",
     "output_type": "stream",
     "text": [
      "[5, 14, 14, -1, 7, 7, 9, -1, 6, 9, -1, 5, 5, -1, -1]\n"
     ]
    }
   ],
   "source": [
    "class Stack:\n",
    "    def __init__(self):\n",
    "        self.items = []\n",
    "    def push(self,data):\n",
    "        self.items.append(data)\n",
    "    def pop(self):\n",
    "        return self.items.pop()\n",
    "    def size(self):\n",
    "        return len(self.items)\n",
    "    def top(self):\n",
    "        return self.items[-1]\n",
    "\n",
    "        \n",
    "L= [3,5,2,14,5,3,7,9,4,6,9,4,2,5,3]\n",
    "O=[0]*len(L)\n",
    "s= Stack()\n",
    "for i in range(len(L)-1,-1,-1):\n",
    "    if s.size() != 0:\n",
    "        while s.size() !=0 and s.top()<=L[i]:\n",
    "            if s.top() <= L[i]:\n",
    "                s.pop()\n",
    "    if s.size() == 0:\n",
    "        O[i]=-1\n",
    "    else:\n",
    "        O[i]=s.top()\n",
    "    s.push(L[i])\n",
    "print(O)"
   ]
  },
  {
   "cell_type": "markdown",
   "id": "7bcb7c4d",
   "metadata": {},
   "source": [
    "### Queue"
   ]
  },
  {
   "cell_type": "code",
   "execution_count": 8,
   "id": "067bf9e3",
   "metadata": {},
   "outputs": [
    {
     "name": "stdout",
     "output_type": "stream",
     "text": [
      "<__main__.Node object at 0x000001C32881E190>\n",
      "<__main__.Node object at 0x000001C328CF3890>\n",
      "<__main__.Node object at 0x000001C328CF3890>\n"
     ]
    }
   ],
   "source": [
    "class Node:\n",
    "    def __init__(self,data):\n",
    "        self.value=data\n",
    "        self.next=None\n",
    "        \n",
    "Head=Tail=Node(10)\n",
    "\n",
    "Tail.next=Node(20)\n",
    "Tail=Tail.next\n",
    "\n",
    "Tail.next=Node(30)\n",
    "Tail=Tail.next\n",
    "\n",
    "Tail.next=Node(40)\n",
    "Tail=Tail.next\n",
    "print(Head)\n",
    "print(Tail)\n",
    "print(Head.next.next.next)"
   ]
  },
  {
   "cell_type": "code",
   "execution_count": 9,
   "id": "81738b51",
   "metadata": {},
   "outputs": [
    {
     "name": "stdout",
     "output_type": "stream",
     "text": [
      "10\n"
     ]
    }
   ],
   "source": [
    "print(Head.value)"
   ]
  },
  {
   "cell_type": "markdown",
   "id": "7c69fad8",
   "metadata": {},
   "source": [
    "### Linked list"
   ]
  },
  {
   "cell_type": "code",
   "execution_count": 10,
   "id": "25f0e66f",
   "metadata": {},
   "outputs": [
    {
     "name": "stdout",
     "output_type": "stream",
     "text": [
      "10\n",
      "20\n",
      "30\n",
      "40\n"
     ]
    }
   ],
   "source": [
    "def print_link_list(Head):\n",
    "    if Head==None:\n",
    "        print(\"List is Empty\")\n",
    "        return\n",
    "    curr=Head\n",
    "    while curr !=None:\n",
    "        print(curr.value)\n",
    "        curr=curr.next\n",
    "print_link_list(Head)     "
   ]
  },
  {
   "cell_type": "markdown",
   "id": "b99d09cd",
   "metadata": {},
   "source": [
    "### Basic calculator"
   ]
  },
  {
   "cell_type": "code",
   "execution_count": 14,
   "id": "6899dd19",
   "metadata": {},
   "outputs": [
    {
     "name": "stdout",
     "output_type": "stream",
     "text": [
      "9/3\n",
      "3.0\n"
     ]
    }
   ],
   "source": [
    "s=input()\n",
    "OP=['+','-','*','/']\n",
    "for i in s:\n",
    "    if i in OP:\n",
    "        x=i\n",
    "        s=s.replace(x,\" \")\n",
    "\n",
    "l=list(map(float,s.split()))\n",
    "\n",
    "match x:\n",
    "    case '+': print(l[0]+l[1])\n",
    "    case '-': print(l[0]-l[1])\n",
    "    case '*': print(l[0]*l[1])\n",
    "    case '/': print(l[0]/l[1])\n",
    "    case _ : print(\"Invalid Operator\")"
   ]
  }
 ],
 "metadata": {
  "kernelspec": {
   "display_name": "Python 3 (ipykernel)",
   "language": "python",
   "name": "python3"
  },
  "language_info": {
   "codemirror_mode": {
    "name": "ipython",
    "version": 3
   },
   "file_extension": ".py",
   "mimetype": "text/x-python",
   "name": "python",
   "nbconvert_exporter": "python",
   "pygments_lexer": "ipython3",
   "version": "3.11.5"
  }
 },
 "nbformat": 4,
 "nbformat_minor": 5
}
