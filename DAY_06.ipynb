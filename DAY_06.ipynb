{
 "cells": [
  {
   "cell_type": "code",
   "execution_count": 4,
   "id": "9f3f0e2f",
   "metadata": {},
   "outputs": [
    {
     "name": "stdout",
     "output_type": "stream",
     "text": [
      "u\n",
      "['U']\n"
     ]
    }
   ],
   "source": [
    "S= input()\n",
    "dic = {'A':0,'E':0,'I':0,'O':0,'U':0}\n",
    "for i in S:\n",
    "    if i == 'a' or i == 'A':\n",
    "        dic['A'] += 1\n",
    "    elif i == 'e' or i == 'E':\n",
    "        dic['E'] += 1\n",
    "    elif i == 'i' or i == 'I':\n",
    "        dic['I'] += 1\n",
    "    elif i == 'o' or i == 'O':\n",
    "        dic['O'] += 1\n",
    "    elif i == 'u' or i == 'U':\n",
    "        dic['U'] += 1\n",
    "\n",
    "x=max(dic.values())\n",
    "result =[]\n",
    "for i,j in dic.items():\n",
    "    if j == x:\n",
    "        result.append(i)\n",
    "\n",
    "print(result)"
   ]
  },
  {
   "cell_type": "code",
   "execution_count": 5,
   "id": "0290c1cc",
   "metadata": {},
   "outputs": [
    {
     "name": "stdout",
     "output_type": "stream",
     "text": [
      "Please enter a string:I am Akhila\n",
      "a:2\n",
      "e:0\n",
      "i:1\n",
      "0:0\n",
      "u:0\n",
      "A:1\n",
      "E:0\n",
      "I:1\n",
      "O:0\n",
      "U:0\n"
     ]
    }
   ],
   "source": [
    "input_string=input(\"Please enter a string:\")\n",
    "vowel_count={'a':0,'e':0,'i':0,'0':0,'u':0,'A':0,'E':0,'I':0,'O':0,'U':0}\n",
    "for char in input_string:\n",
    "    if char in vowel_count:\n",
    "        vowel_count[char]+=1\n",
    "for vowel,count in vowel_count.items():\n",
    "    print(f\"{vowel}:{count}\")"
   ]
  },
  {
   "cell_type": "code",
   "execution_count": 6,
   "id": "7a867120",
   "metadata": {},
   "outputs": [
    {
     "name": "stdout",
     "output_type": "stream",
     "text": [
      "{'Alex': ['I'], 'Sam': ['A'], 'Jamie': ['A', 'I'], 'Taylor': ['E'], 'Chris': ['I']}\n"
     ]
    }
   ],
   "source": [
    "def count_vowel(S):\n",
    "    dic = {'A':0,'E':0,'I':0,'O':0,'U':0}\n",
    "    for i in S:\n",
    "        if i == 'a' or i == 'A':\n",
    "            dic['A'] += 1\n",
    "        elif i == 'e' or i == 'E':\n",
    "            dic['E'] += 1\n",
    "        elif i == 'i' or i == 'I':\n",
    "            dic['I'] += 1\n",
    "        elif i == 'o' or i == 'O':\n",
    "            dic['O'] += 1\n",
    "        elif i == 'u' or i == 'U':\n",
    "            dic['U'] += 1\n",
    "    \n",
    "    x=max(dic.values())\n",
    "    result =[]\n",
    "    for i,j in dic.items():\n",
    "        if j == x:\n",
    "            result.append(i)\n",
    "    \n",
    "    return result\n",
    "\n",
    "\n",
    "\n",
    "i_p = [\n",
    "    [\"Alex\", \"I enjoy hiking in the mountains.\"],\n",
    "    [\"Sam\", \"A lovely sunny day at the beach.\"],\n",
    "    [\"Jamie\", \"Reading a book is my favorite pastime.\"],\n",
    "    [\"Taylor\", \"I love playing video games on weekends.\"],\n",
    "    [\"Chris\", \"Exploring new cities is exciting and fun.\"]\n",
    "]\n",
    "\n",
    "o_p = {}\n",
    "\n",
    "for i in i_p:\n",
    "    o_p[i[0]]= count_vowel(i[1])\n",
    "\n",
    "print(o_p)"
   ]
  },
  {
   "cell_type": "markdown",
   "id": "8e71736f",
   "metadata": {},
   "source": [
    "### Given an integer array your task is to find the 3 continuous digits which gives you the maximum sum.\n",
    "\n",
    "sample input:[2,4,3,5,6,3,4,6,7,1,2,5]. output:[4,6,7]"
   ]
  },
  {
   "cell_type": "code",
   "execution_count": 1,
   "id": "528a6571",
   "metadata": {},
   "outputs": [
    {
     "name": "stdout",
     "output_type": "stream",
     "text": [
      "17 4 6 7\n"
     ]
    }
   ],
   "source": [
    "l=[2,4,3,5,6,3,4,6,7,1,2,5]\n",
    "sum=max=0\n",
    "for i in range(0,len(l)-2):\n",
    "    sum=l[i]+l[i+1]+l[i+2]\n",
    "    if max<sum:\n",
    "        max=sum\n",
    "        pos=i\n",
    "print(max,l[pos],l[pos+1],l[pos+2])"
   ]
  },
  {
   "cell_type": "markdown",
   "id": "3138f0bd",
   "metadata": {},
   "source": [
    "### Given an integer array your task is to find the K continuous digits which gives you the maximum sum.where K is entered by user\n",
    "\n",
    "sample input [2,4,3,5,6,3,4,6,7,1,2,5]\n",
    "\n",
    "output: [4,6,7]"
   ]
  },
  {
   "cell_type": "code",
   "execution_count": 6,
   "id": "2389d77c",
   "metadata": {},
   "outputs": [
    {
     "name": "stdout",
     "output_type": "stream",
     "text": [
      "Enter the no of continious digit: 5\n",
      "12\n",
      "26\n",
      "6\n",
      "3\n",
      "4\n",
      "6\n",
      "7\n"
     ]
    }
   ],
   "source": [
    "l=[2,4,3,5,6,3,4,6,7,1,2,5]\n",
    "sum = max = 0\n",
    "k = int(input(\"Enter the no of continious digit: \"))\n",
    "print(len(l))\n",
    "for i in range(0,len(l)-k+1):\n",
    "    sum = 0\n",
    "    for j in range(0,k):\n",
    "        sum+=l[i+j]\n",
    "    if max<sum:\n",
    "        max = sum\n",
    "        pos=i\n",
    "\n",
    "print(max)\n",
    "for j in range(0,k):\n",
    "    print(l[pos+j])"
   ]
  }
 ],
 "metadata": {
  "kernelspec": {
   "display_name": "Python 3 (ipykernel)",
   "language": "python",
   "name": "python3"
  },
  "language_info": {
   "codemirror_mode": {
    "name": "ipython",
    "version": 3
   },
   "file_extension": ".py",
   "mimetype": "text/x-python",
   "name": "python",
   "nbconvert_exporter": "python",
   "pygments_lexer": "ipython3",
   "version": "3.11.5"
  }
 },
 "nbformat": 4,
 "nbformat_minor": 5
}
